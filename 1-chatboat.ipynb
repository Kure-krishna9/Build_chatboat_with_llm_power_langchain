{
 "cells": [
  {
   "cell_type": "markdown",
   "id": "22150ff9",
   "metadata": {},
   "source": [
    "# Building A Chatbot\n",
    "\n",
    "in this video will go over an example of how to design and impliment an simple LLM based chatbot this chat bot will able to have a conversation and remember previous intraction.\n",
    "\n",
    "Note that this chatbot that will build will only use  of the language model to have a conversation .There are saveral other realated concept that you may be looking  fro:\n",
    "\n",
    "\n",
    "1.Conversational Rag: Enable a chatbot experience over an external source of data.\n",
    "2. Agent: Build a chatbot that can take action.\n",
    "\n",
    "This video tutorial will cover the basics which will be helpful for those two or more advance topics."
   ]
  },
  {
   "cell_type": "code",
   "execution_count": 13,
   "id": "e9674652",
   "metadata": {},
   "outputs": [
    {
     "name": "stdout",
     "output_type": "stream",
     "text": [
      "Requirement already satisfied: langchain in f:\\study material\\nlp_rag _projects\\build_chatboat_with_llm_power_langchain\\.venv\\lib\\site-packages (from -r requrements.txt (line 1)) (0.3.27)\n",
      "Requirement already satisfied: ipykernel in f:\\study material\\nlp_rag _projects\\build_chatboat_with_llm_power_langchain\\.venv\\lib\\site-packages (from -r requrements.txt (line 2)) (6.30.1)\n",
      "Requirement already satisfied: python-dotenv in f:\\study material\\nlp_rag _projects\\build_chatboat_with_llm_power_langchain\\.venv\\lib\\site-packages (from -r requrements.txt (line 3)) (1.1.1)\n",
      "Requirement already satisfied: langchain_community in f:\\study material\\nlp_rag _projects\\build_chatboat_with_llm_power_langchain\\.venv\\lib\\site-packages (from -r requrements.txt (line 4)) (0.3.29)\n",
      "Requirement already satisfied: pypdf in f:\\study material\\nlp_rag _projects\\build_chatboat_with_llm_power_langchain\\.venv\\lib\\site-packages (from -r requrements.txt (line 5)) (6.0.0)\n",
      "Requirement already satisfied: bs4 in f:\\study material\\nlp_rag _projects\\build_chatboat_with_llm_power_langchain\\.venv\\lib\\site-packages (from -r requrements.txt (line 6)) (0.0.2)\n",
      "Requirement already satisfied: arxiv in f:\\study material\\nlp_rag _projects\\build_chatboat_with_llm_power_langchain\\.venv\\lib\\site-packages (from -r requrements.txt (line 7)) (2.2.0)\n",
      "Requirement already satisfied: pymupdf in f:\\study material\\nlp_rag _projects\\build_chatboat_with_llm_power_langchain\\.venv\\lib\\site-packages (from -r requrements.txt (line 8)) (1.26.4)\n",
      "Requirement already satisfied: wikipedia in f:\\study material\\nlp_rag _projects\\build_chatboat_with_llm_power_langchain\\.venv\\lib\\site-packages (from -r requrements.txt (line 9)) (1.4.0)\n",
      "Requirement already satisfied: langchain-text-splitters in f:\\study material\\nlp_rag _projects\\build_chatboat_with_llm_power_langchain\\.venv\\lib\\site-packages (from -r requrements.txt (line 10)) (0.3.11)\n",
      "Requirement already satisfied: langchain-openai in f:\\study material\\nlp_rag _projects\\build_chatboat_with_llm_power_langchain\\.venv\\lib\\site-packages (from -r requrements.txt (line 11)) (0.3.32)\n",
      "Requirement already satisfied: chromadb in f:\\study material\\nlp_rag _projects\\build_chatboat_with_llm_power_langchain\\.venv\\lib\\site-packages (from -r requrements.txt (line 12)) (1.0.20)\n",
      "Requirement already satisfied: sentence_transformers in f:\\study material\\nlp_rag _projects\\build_chatboat_with_llm_power_langchain\\.venv\\lib\\site-packages (from -r requrements.txt (line 13)) (5.1.0)\n",
      "Requirement already satisfied: langchain_huggingface in f:\\study material\\nlp_rag _projects\\build_chatboat_with_llm_power_langchain\\.venv\\lib\\site-packages (from -r requrements.txt (line 14)) (0.3.1)\n",
      "Requirement already satisfied: faiss-cpu in f:\\study material\\nlp_rag _projects\\build_chatboat_with_llm_power_langchain\\.venv\\lib\\site-packages (from -r requrements.txt (line 15)) (1.12.0)\n",
      "Collecting langchain_chroma (from -r requrements.txt (line 17))\n",
      "  Using cached langchain_chroma-0.2.5-py3-none-any.whl.metadata (1.1 kB)\n",
      "Requirement already satisfied: streamlit in f:\\study material\\nlp_rag _projects\\build_chatboat_with_llm_power_langchain\\.venv\\lib\\site-packages (from -r requrements.txt (line 18)) (1.49.1)\n",
      "Requirement already satisfied: langchain-ollama in f:\\study material\\nlp_rag _projects\\build_chatboat_with_llm_power_langchain\\.venv\\lib\\site-packages (from -r requrements.txt (line 19)) (0.3.7)\n",
      "Requirement already satisfied: langchain_groq in f:\\study material\\nlp_rag _projects\\build_chatboat_with_llm_power_langchain\\.venv\\lib\\site-packages (from -r requrements.txt (line 20)) (0.3.7)\n",
      "Requirement already satisfied: langchain_core in f:\\study material\\nlp_rag _projects\\build_chatboat_with_llm_power_langchain\\.venv\\lib\\site-packages (from -r requrements.txt (line 21)) (0.3.75)\n",
      "Requirement already satisfied: langserve in f:\\study material\\nlp_rag _projects\\build_chatboat_with_llm_power_langchain\\.venv\\lib\\site-packages (from -r requrements.txt (line 22)) (0.3.1)\n",
      "Requirement already satisfied: fastapi in f:\\study material\\nlp_rag _projects\\build_chatboat_with_llm_power_langchain\\.venv\\lib\\site-packages (from -r requrements.txt (line 23)) (0.116.1)\n",
      "Requirement already satisfied: sse_starlette in f:\\study material\\nlp_rag _projects\\build_chatboat_with_llm_power_langchain\\.venv\\lib\\site-packages (from -r requrements.txt (line 24)) (3.0.2)\n",
      "Requirement already satisfied: dotenv in f:\\study material\\nlp_rag _projects\\build_chatboat_with_llm_power_langchain\\.venv\\lib\\site-packages (from -r requrements.txt (line 25)) (0.9.9)\n",
      "Requirement already satisfied: langsmith>=0.1.17 in f:\\study material\\nlp_rag _projects\\build_chatboat_with_llm_power_langchain\\.venv\\lib\\site-packages (from langchain->-r requrements.txt (line 1)) (0.4.25)\n",
      "Requirement already satisfied: pydantic<3.0.0,>=2.7.4 in f:\\study material\\nlp_rag _projects\\build_chatboat_with_llm_power_langchain\\.venv\\lib\\site-packages (from langchain->-r requrements.txt (line 1)) (2.11.7)\n",
      "Requirement already satisfied: SQLAlchemy<3,>=1.4 in f:\\study material\\nlp_rag _projects\\build_chatboat_with_llm_power_langchain\\.venv\\lib\\site-packages (from langchain->-r requrements.txt (line 1)) (2.0.43)\n",
      "Requirement already satisfied: requests<3,>=2 in f:\\study material\\nlp_rag _projects\\build_chatboat_with_llm_power_langchain\\.venv\\lib\\site-packages (from langchain->-r requrements.txt (line 1)) (2.32.5)\n",
      "Requirement already satisfied: PyYAML>=5.3 in f:\\study material\\nlp_rag _projects\\build_chatboat_with_llm_power_langchain\\.venv\\lib\\site-packages (from langchain->-r requrements.txt (line 1)) (6.0.2)\n",
      "Requirement already satisfied: tenacity!=8.4.0,<10.0.0,>=8.1.0 in f:\\study material\\nlp_rag _projects\\build_chatboat_with_llm_power_langchain\\.venv\\lib\\site-packages (from langchain_core->-r requrements.txt (line 21)) (9.1.2)\n",
      "Requirement already satisfied: jsonpatch<2.0,>=1.33 in f:\\study material\\nlp_rag _projects\\build_chatboat_with_llm_power_langchain\\.venv\\lib\\site-packages (from langchain_core->-r requrements.txt (line 21)) (1.33)\n",
      "Requirement already satisfied: typing-extensions>=4.7 in f:\\study material\\nlp_rag _projects\\build_chatboat_with_llm_power_langchain\\.venv\\lib\\site-packages (from langchain_core->-r requrements.txt (line 21)) (4.15.0)\n",
      "Requirement already satisfied: packaging>=23.2 in f:\\study material\\nlp_rag _projects\\build_chatboat_with_llm_power_langchain\\.venv\\lib\\site-packages (from langchain_core->-r requrements.txt (line 21)) (25.0)\n",
      "Requirement already satisfied: jsonpointer>=1.9 in f:\\study material\\nlp_rag _projects\\build_chatboat_with_llm_power_langchain\\.venv\\lib\\site-packages (from jsonpatch<2.0,>=1.33->langchain_core->-r requrements.txt (line 21)) (3.0.0)\n",
      "Requirement already satisfied: annotated-types>=0.6.0 in f:\\study material\\nlp_rag _projects\\build_chatboat_with_llm_power_langchain\\.venv\\lib\\site-packages (from pydantic<3.0.0,>=2.7.4->langchain->-r requrements.txt (line 1)) (0.7.0)\n",
      "Requirement already satisfied: pydantic-core==2.33.2 in f:\\study material\\nlp_rag _projects\\build_chatboat_with_llm_power_langchain\\.venv\\lib\\site-packages (from pydantic<3.0.0,>=2.7.4->langchain->-r requrements.txt (line 1)) (2.33.2)\n",
      "Requirement already satisfied: typing-inspection>=0.4.0 in f:\\study material\\nlp_rag _projects\\build_chatboat_with_llm_power_langchain\\.venv\\lib\\site-packages (from pydantic<3.0.0,>=2.7.4->langchain->-r requrements.txt (line 1)) (0.4.1)\n",
      "Requirement already satisfied: charset_normalizer<4,>=2 in f:\\study material\\nlp_rag _projects\\build_chatboat_with_llm_power_langchain\\.venv\\lib\\site-packages (from requests<3,>=2->langchain->-r requrements.txt (line 1)) (3.4.3)\n",
      "Requirement already satisfied: idna<4,>=2.5 in f:\\study material\\nlp_rag _projects\\build_chatboat_with_llm_power_langchain\\.venv\\lib\\site-packages (from requests<3,>=2->langchain->-r requrements.txt (line 1)) (3.10)\n",
      "Requirement already satisfied: urllib3<3,>=1.21.1 in f:\\study material\\nlp_rag _projects\\build_chatboat_with_llm_power_langchain\\.venv\\lib\\site-packages (from requests<3,>=2->langchain->-r requrements.txt (line 1)) (2.5.0)\n",
      "Requirement already satisfied: certifi>=2017.4.17 in f:\\study material\\nlp_rag _projects\\build_chatboat_with_llm_power_langchain\\.venv\\lib\\site-packages (from requests<3,>=2->langchain->-r requrements.txt (line 1)) (2025.8.3)\n",
      "Requirement already satisfied: greenlet>=1 in f:\\study material\\nlp_rag _projects\\build_chatboat_with_llm_power_langchain\\.venv\\lib\\site-packages (from SQLAlchemy<3,>=1.4->langchain->-r requrements.txt (line 1)) (3.2.4)\n",
      "Requirement already satisfied: comm>=0.1.1 in f:\\study material\\nlp_rag _projects\\build_chatboat_with_llm_power_langchain\\.venv\\lib\\site-packages (from ipykernel->-r requrements.txt (line 2)) (0.2.3)\n",
      "Requirement already satisfied: debugpy>=1.6.5 in f:\\study material\\nlp_rag _projects\\build_chatboat_with_llm_power_langchain\\.venv\\lib\\site-packages (from ipykernel->-r requrements.txt (line 2)) (1.8.16)\n",
      "Requirement already satisfied: ipython>=7.23.1 in f:\\study material\\nlp_rag _projects\\build_chatboat_with_llm_power_langchain\\.venv\\lib\\site-packages (from ipykernel->-r requrements.txt (line 2)) (9.5.0)\n",
      "Requirement already satisfied: jupyter-client>=8.0.0 in f:\\study material\\nlp_rag _projects\\build_chatboat_with_llm_power_langchain\\.venv\\lib\\site-packages (from ipykernel->-r requrements.txt (line 2)) (8.6.3)\n",
      "Requirement already satisfied: jupyter-core!=5.0.*,>=4.12 in f:\\study material\\nlp_rag _projects\\build_chatboat_with_llm_power_langchain\\.venv\\lib\\site-packages (from ipykernel->-r requrements.txt (line 2)) (5.8.1)\n",
      "Requirement already satisfied: matplotlib-inline>=0.1 in f:\\study material\\nlp_rag _projects\\build_chatboat_with_llm_power_langchain\\.venv\\lib\\site-packages (from ipykernel->-r requrements.txt (line 2)) (0.1.7)\n",
      "Requirement already satisfied: nest-asyncio>=1.4 in f:\\study material\\nlp_rag _projects\\build_chatboat_with_llm_power_langchain\\.venv\\lib\\site-packages (from ipykernel->-r requrements.txt (line 2)) (1.6.0)\n",
      "Requirement already satisfied: psutil>=5.7 in f:\\study material\\nlp_rag _projects\\build_chatboat_with_llm_power_langchain\\.venv\\lib\\site-packages (from ipykernel->-r requrements.txt (line 2)) (7.0.0)\n",
      "Requirement already satisfied: pyzmq>=25 in f:\\study material\\nlp_rag _projects\\build_chatboat_with_llm_power_langchain\\.venv\\lib\\site-packages (from ipykernel->-r requrements.txt (line 2)) (27.0.2)\n",
      "Requirement already satisfied: tornado>=6.2 in f:\\study material\\nlp_rag _projects\\build_chatboat_with_llm_power_langchain\\.venv\\lib\\site-packages (from ipykernel->-r requrements.txt (line 2)) (6.5.2)\n",
      "Requirement already satisfied: traitlets>=5.4.0 in f:\\study material\\nlp_rag _projects\\build_chatboat_with_llm_power_langchain\\.venv\\lib\\site-packages (from ipykernel->-r requrements.txt (line 2)) (5.14.3)\n",
      "Requirement already satisfied: aiohttp<4.0.0,>=3.8.3 in f:\\study material\\nlp_rag _projects\\build_chatboat_with_llm_power_langchain\\.venv\\lib\\site-packages (from langchain_community->-r requrements.txt (line 4)) (3.12.15)\n",
      "Requirement already satisfied: dataclasses-json<0.7,>=0.6.7 in f:\\study material\\nlp_rag _projects\\build_chatboat_with_llm_power_langchain\\.venv\\lib\\site-packages (from langchain_community->-r requrements.txt (line 4)) (0.6.7)\n",
      "Requirement already satisfied: pydantic-settings<3.0.0,>=2.10.1 in f:\\study material\\nlp_rag _projects\\build_chatboat_with_llm_power_langchain\\.venv\\lib\\site-packages (from langchain_community->-r requrements.txt (line 4)) (2.10.1)\n",
      "Requirement already satisfied: httpx-sse<1.0.0,>=0.4.0 in f:\\study material\\nlp_rag _projects\\build_chatboat_with_llm_power_langchain\\.venv\\lib\\site-packages (from langchain_community->-r requrements.txt (line 4)) (0.4.1)\n",
      "Requirement already satisfied: numpy>=1.26.2 in f:\\study material\\nlp_rag _projects\\build_chatboat_with_llm_power_langchain\\.venv\\lib\\site-packages (from langchain_community->-r requrements.txt (line 4)) (2.3.2)\n",
      "Requirement already satisfied: aiohappyeyeballs>=2.5.0 in f:\\study material\\nlp_rag _projects\\build_chatboat_with_llm_power_langchain\\.venv\\lib\\site-packages (from aiohttp<4.0.0,>=3.8.3->langchain_community->-r requrements.txt (line 4)) (2.6.1)\n",
      "Requirement already satisfied: aiosignal>=1.4.0 in f:\\study material\\nlp_rag _projects\\build_chatboat_with_llm_power_langchain\\.venv\\lib\\site-packages (from aiohttp<4.0.0,>=3.8.3->langchain_community->-r requrements.txt (line 4)) (1.4.0)\n",
      "Requirement already satisfied: attrs>=17.3.0 in f:\\study material\\nlp_rag _projects\\build_chatboat_with_llm_power_langchain\\.venv\\lib\\site-packages (from aiohttp<4.0.0,>=3.8.3->langchain_community->-r requrements.txt (line 4)) (25.3.0)\n",
      "Requirement already satisfied: frozenlist>=1.1.1 in f:\\study material\\nlp_rag _projects\\build_chatboat_with_llm_power_langchain\\.venv\\lib\\site-packages (from aiohttp<4.0.0,>=3.8.3->langchain_community->-r requrements.txt (line 4)) (1.7.0)\n",
      "Requirement already satisfied: multidict<7.0,>=4.5 in f:\\study material\\nlp_rag _projects\\build_chatboat_with_llm_power_langchain\\.venv\\lib\\site-packages (from aiohttp<4.0.0,>=3.8.3->langchain_community->-r requrements.txt (line 4)) (6.6.4)\n",
      "Requirement already satisfied: propcache>=0.2.0 in f:\\study material\\nlp_rag _projects\\build_chatboat_with_llm_power_langchain\\.venv\\lib\\site-packages (from aiohttp<4.0.0,>=3.8.3->langchain_community->-r requrements.txt (line 4)) (0.3.2)\n",
      "Requirement already satisfied: yarl<2.0,>=1.17.0 in f:\\study material\\nlp_rag _projects\\build_chatboat_with_llm_power_langchain\\.venv\\lib\\site-packages (from aiohttp<4.0.0,>=3.8.3->langchain_community->-r requrements.txt (line 4)) (1.20.1)\n",
      "Requirement already satisfied: marshmallow<4.0.0,>=3.18.0 in f:\\study material\\nlp_rag _projects\\build_chatboat_with_llm_power_langchain\\.venv\\lib\\site-packages (from dataclasses-json<0.7,>=0.6.7->langchain_community->-r requrements.txt (line 4)) (3.26.1)\n",
      "Requirement already satisfied: typing-inspect<1,>=0.4.0 in f:\\study material\\nlp_rag _projects\\build_chatboat_with_llm_power_langchain\\.venv\\lib\\site-packages (from dataclasses-json<0.7,>=0.6.7->langchain_community->-r requrements.txt (line 4)) (0.9.0)\n",
      "Requirement already satisfied: mypy-extensions>=0.3.0 in f:\\study material\\nlp_rag _projects\\build_chatboat_with_llm_power_langchain\\.venv\\lib\\site-packages (from typing-inspect<1,>=0.4.0->dataclasses-json<0.7,>=0.6.7->langchain_community->-r requrements.txt (line 4)) (1.1.0)\n",
      "Requirement already satisfied: beautifulsoup4 in f:\\study material\\nlp_rag _projects\\build_chatboat_with_llm_power_langchain\\.venv\\lib\\site-packages (from bs4->-r requrements.txt (line 6)) (4.13.5)\n",
      "Requirement already satisfied: feedparser~=6.0.10 in f:\\study material\\nlp_rag _projects\\build_chatboat_with_llm_power_langchain\\.venv\\lib\\site-packages (from arxiv->-r requrements.txt (line 7)) (6.0.11)\n",
      "Requirement already satisfied: sgmllib3k in f:\\study material\\nlp_rag _projects\\build_chatboat_with_llm_power_langchain\\.venv\\lib\\site-packages (from feedparser~=6.0.10->arxiv->-r requrements.txt (line 7)) (1.0.0)\n",
      "Requirement already satisfied: openai<2.0.0,>=1.99.9 in f:\\study material\\nlp_rag _projects\\build_chatboat_with_llm_power_langchain\\.venv\\lib\\site-packages (from langchain-openai->-r requrements.txt (line 11)) (1.106.1)\n",
      "Requirement already satisfied: tiktoken<1,>=0.7 in f:\\study material\\nlp_rag _projects\\build_chatboat_with_llm_power_langchain\\.venv\\lib\\site-packages (from langchain-openai->-r requrements.txt (line 11)) (0.11.0)\n",
      "Requirement already satisfied: anyio<5,>=3.5.0 in f:\\study material\\nlp_rag _projects\\build_chatboat_with_llm_power_langchain\\.venv\\lib\\site-packages (from openai<2.0.0,>=1.99.9->langchain-openai->-r requrements.txt (line 11)) (4.10.0)\n",
      "Requirement already satisfied: distro<2,>=1.7.0 in f:\\study material\\nlp_rag _projects\\build_chatboat_with_llm_power_langchain\\.venv\\lib\\site-packages (from openai<2.0.0,>=1.99.9->langchain-openai->-r requrements.txt (line 11)) (1.9.0)\n",
      "Requirement already satisfied: httpx<1,>=0.23.0 in f:\\study material\\nlp_rag _projects\\build_chatboat_with_llm_power_langchain\\.venv\\lib\\site-packages (from openai<2.0.0,>=1.99.9->langchain-openai->-r requrements.txt (line 11)) (0.28.1)\n",
      "Requirement already satisfied: jiter<1,>=0.4.0 in f:\\study material\\nlp_rag _projects\\build_chatboat_with_llm_power_langchain\\.venv\\lib\\site-packages (from openai<2.0.0,>=1.99.9->langchain-openai->-r requrements.txt (line 11)) (0.10.0)\n",
      "Requirement already satisfied: sniffio in f:\\study material\\nlp_rag _projects\\build_chatboat_with_llm_power_langchain\\.venv\\lib\\site-packages (from openai<2.0.0,>=1.99.9->langchain-openai->-r requrements.txt (line 11)) (1.3.1)\n",
      "Requirement already satisfied: tqdm>4 in f:\\study material\\nlp_rag _projects\\build_chatboat_with_llm_power_langchain\\.venv\\lib\\site-packages (from openai<2.0.0,>=1.99.9->langchain-openai->-r requrements.txt (line 11)) (4.67.1)\n",
      "Requirement already satisfied: httpcore==1.* in f:\\study material\\nlp_rag _projects\\build_chatboat_with_llm_power_langchain\\.venv\\lib\\site-packages (from httpx<1,>=0.23.0->openai<2.0.0,>=1.99.9->langchain-openai->-r requrements.txt (line 11)) (1.0.9)\n",
      "Requirement already satisfied: h11>=0.16 in f:\\study material\\nlp_rag _projects\\build_chatboat_with_llm_power_langchain\\.venv\\lib\\site-packages (from httpcore==1.*->httpx<1,>=0.23.0->openai<2.0.0,>=1.99.9->langchain-openai->-r requrements.txt (line 11)) (0.16.0)\n",
      "Requirement already satisfied: regex>=2022.1.18 in f:\\study material\\nlp_rag _projects\\build_chatboat_with_llm_power_langchain\\.venv\\lib\\site-packages (from tiktoken<1,>=0.7->langchain-openai->-r requrements.txt (line 11)) (2025.9.1)\n",
      "Requirement already satisfied: build>=1.0.3 in f:\\study material\\nlp_rag _projects\\build_chatboat_with_llm_power_langchain\\.venv\\lib\\site-packages (from chromadb->-r requrements.txt (line 12)) (1.3.0)\n",
      "Requirement already satisfied: pybase64>=1.4.1 in f:\\study material\\nlp_rag _projects\\build_chatboat_with_llm_power_langchain\\.venv\\lib\\site-packages (from chromadb->-r requrements.txt (line 12)) (1.4.2)\n",
      "Requirement already satisfied: uvicorn>=0.18.3 in f:\\study material\\nlp_rag _projects\\build_chatboat_with_llm_power_langchain\\.venv\\lib\\site-packages (from uvicorn[standard]>=0.18.3->chromadb->-r requrements.txt (line 12)) (0.35.0)\n",
      "Requirement already satisfied: posthog<6.0.0,>=2.4.0 in f:\\study material\\nlp_rag _projects\\build_chatboat_with_llm_power_langchain\\.venv\\lib\\site-packages (from chromadb->-r requrements.txt (line 12)) (5.4.0)\n",
      "Requirement already satisfied: onnxruntime>=1.14.1 in f:\\study material\\nlp_rag _projects\\build_chatboat_with_llm_power_langchain\\.venv\\lib\\site-packages (from chromadb->-r requrements.txt (line 12)) (1.22.1)\n",
      "Requirement already satisfied: opentelemetry-api>=1.2.0 in f:\\study material\\nlp_rag _projects\\build_chatboat_with_llm_power_langchain\\.venv\\lib\\site-packages (from chromadb->-r requrements.txt (line 12)) (1.36.0)\n",
      "Requirement already satisfied: opentelemetry-exporter-otlp-proto-grpc>=1.2.0 in f:\\study material\\nlp_rag _projects\\build_chatboat_with_llm_power_langchain\\.venv\\lib\\site-packages (from chromadb->-r requrements.txt (line 12)) (1.36.0)\n",
      "Requirement already satisfied: opentelemetry-sdk>=1.2.0 in f:\\study material\\nlp_rag _projects\\build_chatboat_with_llm_power_langchain\\.venv\\lib\\site-packages (from chromadb->-r requrements.txt (line 12)) (1.36.0)\n",
      "Requirement already satisfied: tokenizers>=0.13.2 in f:\\study material\\nlp_rag _projects\\build_chatboat_with_llm_power_langchain\\.venv\\lib\\site-packages (from chromadb->-r requrements.txt (line 12)) (0.22.0)\n",
      "Requirement already satisfied: pypika>=0.48.9 in f:\\study material\\nlp_rag _projects\\build_chatboat_with_llm_power_langchain\\.venv\\lib\\site-packages (from chromadb->-r requrements.txt (line 12)) (0.48.9)\n",
      "Requirement already satisfied: overrides>=7.3.1 in f:\\study material\\nlp_rag _projects\\build_chatboat_with_llm_power_langchain\\.venv\\lib\\site-packages (from chromadb->-r requrements.txt (line 12)) (7.7.0)\n",
      "Requirement already satisfied: importlib-resources in f:\\study material\\nlp_rag _projects\\build_chatboat_with_llm_power_langchain\\.venv\\lib\\site-packages (from chromadb->-r requrements.txt (line 12)) (6.5.2)\n",
      "Requirement already satisfied: grpcio>=1.58.0 in f:\\study material\\nlp_rag _projects\\build_chatboat_with_llm_power_langchain\\.venv\\lib\\site-packages (from chromadb->-r requrements.txt (line 12)) (1.74.0)\n",
      "Requirement already satisfied: bcrypt>=4.0.1 in f:\\study material\\nlp_rag _projects\\build_chatboat_with_llm_power_langchain\\.venv\\lib\\site-packages (from chromadb->-r requrements.txt (line 12)) (4.3.0)\n",
      "Requirement already satisfied: typer>=0.9.0 in f:\\study material\\nlp_rag _projects\\build_chatboat_with_llm_power_langchain\\.venv\\lib\\site-packages (from chromadb->-r requrements.txt (line 12)) (0.17.4)\n",
      "Requirement already satisfied: kubernetes>=28.1.0 in f:\\study material\\nlp_rag _projects\\build_chatboat_with_llm_power_langchain\\.venv\\lib\\site-packages (from chromadb->-r requrements.txt (line 12)) (33.1.0)\n",
      "Requirement already satisfied: mmh3>=4.0.1 in f:\\study material\\nlp_rag _projects\\build_chatboat_with_llm_power_langchain\\.venv\\lib\\site-packages (from chromadb->-r requrements.txt (line 12)) (5.2.0)\n",
      "Requirement already satisfied: orjson>=3.9.12 in f:\\study material\\nlp_rag _projects\\build_chatboat_with_llm_power_langchain\\.venv\\lib\\site-packages (from chromadb->-r requrements.txt (line 12)) (3.11.3)\n",
      "Requirement already satisfied: rich>=10.11.0 in f:\\study material\\nlp_rag _projects\\build_chatboat_with_llm_power_langchain\\.venv\\lib\\site-packages (from chromadb->-r requrements.txt (line 12)) (14.1.0)\n",
      "Requirement already satisfied: jsonschema>=4.19.0 in f:\\study material\\nlp_rag _projects\\build_chatboat_with_llm_power_langchain\\.venv\\lib\\site-packages (from chromadb->-r requrements.txt (line 12)) (4.25.1)\n",
      "Requirement already satisfied: six>=1.5 in f:\\study material\\nlp_rag _projects\\build_chatboat_with_llm_power_langchain\\.venv\\lib\\site-packages (from posthog<6.0.0,>=2.4.0->chromadb->-r requrements.txt (line 12)) (1.17.0)\n",
      "Requirement already satisfied: python-dateutil>=2.2 in f:\\study material\\nlp_rag _projects\\build_chatboat_with_llm_power_langchain\\.venv\\lib\\site-packages (from posthog<6.0.0,>=2.4.0->chromadb->-r requrements.txt (line 12)) (2.9.0.post0)\n",
      "Requirement already satisfied: backoff>=1.10.0 in f:\\study material\\nlp_rag _projects\\build_chatboat_with_llm_power_langchain\\.venv\\lib\\site-packages (from posthog<6.0.0,>=2.4.0->chromadb->-r requrements.txt (line 12)) (2.2.1)\n",
      "Requirement already satisfied: transformers<5.0.0,>=4.41.0 in f:\\study material\\nlp_rag _projects\\build_chatboat_with_llm_power_langchain\\.venv\\lib\\site-packages (from sentence_transformers->-r requrements.txt (line 13)) (4.56.1)\n",
      "Requirement already satisfied: torch>=1.11.0 in f:\\study material\\nlp_rag _projects\\build_chatboat_with_llm_power_langchain\\.venv\\lib\\site-packages (from sentence_transformers->-r requrements.txt (line 13)) (2.8.0)\n",
      "Requirement already satisfied: scikit-learn in f:\\study material\\nlp_rag _projects\\build_chatboat_with_llm_power_langchain\\.venv\\lib\\site-packages (from sentence_transformers->-r requrements.txt (line 13)) (1.7.1)\n",
      "Requirement already satisfied: scipy in f:\\study material\\nlp_rag _projects\\build_chatboat_with_llm_power_langchain\\.venv\\lib\\site-packages (from sentence_transformers->-r requrements.txt (line 13)) (1.16.1)\n",
      "Requirement already satisfied: huggingface-hub>=0.20.0 in f:\\study material\\nlp_rag _projects\\build_chatboat_with_llm_power_langchain\\.venv\\lib\\site-packages (from sentence_transformers->-r requrements.txt (line 13)) (0.34.4)\n",
      "Requirement already satisfied: Pillow in f:\\study material\\nlp_rag _projects\\build_chatboat_with_llm_power_langchain\\.venv\\lib\\site-packages (from sentence_transformers->-r requrements.txt (line 13)) (11.3.0)\n",
      "Requirement already satisfied: filelock in f:\\study material\\nlp_rag _projects\\build_chatboat_with_llm_power_langchain\\.venv\\lib\\site-packages (from transformers<5.0.0,>=4.41.0->sentence_transformers->-r requrements.txt (line 13)) (3.19.1)\n",
      "Requirement already satisfied: safetensors>=0.4.3 in f:\\study material\\nlp_rag _projects\\build_chatboat_with_llm_power_langchain\\.venv\\lib\\site-packages (from transformers<5.0.0,>=4.41.0->sentence_transformers->-r requrements.txt (line 13)) (0.6.2)\n",
      "Requirement already satisfied: fsspec>=2023.5.0 in f:\\study material\\nlp_rag _projects\\build_chatboat_with_llm_power_langchain\\.venv\\lib\\site-packages (from huggingface-hub>=0.20.0->sentence_transformers->-r requrements.txt (line 13)) (2025.9.0)\n",
      "Requirement already satisfied: altair!=5.4.0,!=5.4.1,<6,>=4.0 in f:\\study material\\nlp_rag _projects\\build_chatboat_with_llm_power_langchain\\.venv\\lib\\site-packages (from streamlit->-r requrements.txt (line 18)) (5.5.0)\n",
      "Requirement already satisfied: blinker<2,>=1.5.0 in f:\\study material\\nlp_rag _projects\\build_chatboat_with_llm_power_langchain\\.venv\\lib\\site-packages (from streamlit->-r requrements.txt (line 18)) (1.9.0)\n",
      "Requirement already satisfied: cachetools<7,>=4.0 in f:\\study material\\nlp_rag _projects\\build_chatboat_with_llm_power_langchain\\.venv\\lib\\site-packages (from streamlit->-r requrements.txt (line 18)) (5.5.2)\n",
      "Requirement already satisfied: click<9,>=7.0 in f:\\study material\\nlp_rag _projects\\build_chatboat_with_llm_power_langchain\\.venv\\lib\\site-packages (from streamlit->-r requrements.txt (line 18)) (8.2.1)\n",
      "Requirement already satisfied: pandas<3,>=1.4.0 in f:\\study material\\nlp_rag _projects\\build_chatboat_with_llm_power_langchain\\.venv\\lib\\site-packages (from streamlit->-r requrements.txt (line 18)) (2.3.2)\n",
      "Requirement already satisfied: protobuf<7,>=3.20 in f:\\study material\\nlp_rag _projects\\build_chatboat_with_llm_power_langchain\\.venv\\lib\\site-packages (from streamlit->-r requrements.txt (line 18)) (6.32.0)\n",
      "Requirement already satisfied: pyarrow>=7.0 in f:\\study material\\nlp_rag _projects\\build_chatboat_with_llm_power_langchain\\.venv\\lib\\site-packages (from streamlit->-r requrements.txt (line 18)) (21.0.0)\n",
      "Requirement already satisfied: toml<2,>=0.10.1 in f:\\study material\\nlp_rag _projects\\build_chatboat_with_llm_power_langchain\\.venv\\lib\\site-packages (from streamlit->-r requrements.txt (line 18)) (0.10.2)\n",
      "Requirement already satisfied: watchdog<7,>=2.1.5 in f:\\study material\\nlp_rag _projects\\build_chatboat_with_llm_power_langchain\\.venv\\lib\\site-packages (from streamlit->-r requrements.txt (line 18)) (6.0.0)\n",
      "Requirement already satisfied: gitpython!=3.1.19,<4,>=3.0.7 in f:\\study material\\nlp_rag _projects\\build_chatboat_with_llm_power_langchain\\.venv\\lib\\site-packages (from streamlit->-r requrements.txt (line 18)) (3.1.45)\n",
      "Requirement already satisfied: pydeck<1,>=0.8.0b4 in f:\\study material\\nlp_rag _projects\\build_chatboat_with_llm_power_langchain\\.venv\\lib\\site-packages (from streamlit->-r requrements.txt (line 18)) (0.9.1)\n",
      "Requirement already satisfied: jinja2 in f:\\study material\\nlp_rag _projects\\build_chatboat_with_llm_power_langchain\\.venv\\lib\\site-packages (from altair!=5.4.0,!=5.4.1,<6,>=4.0->streamlit->-r requrements.txt (line 18)) (3.1.6)\n",
      "Requirement already satisfied: narwhals>=1.14.2 in f:\\study material\\nlp_rag _projects\\build_chatboat_with_llm_power_langchain\\.venv\\lib\\site-packages (from altair!=5.4.0,!=5.4.1,<6,>=4.0->streamlit->-r requrements.txt (line 18)) (2.3.0)\n",
      "Requirement already satisfied: colorama in f:\\study material\\nlp_rag _projects\\build_chatboat_with_llm_power_langchain\\.venv\\lib\\site-packages (from click<9,>=7.0->streamlit->-r requrements.txt (line 18)) (0.4.6)\n",
      "Requirement already satisfied: gitdb<5,>=4.0.1 in f:\\study material\\nlp_rag _projects\\build_chatboat_with_llm_power_langchain\\.venv\\lib\\site-packages (from gitpython!=3.1.19,<4,>=3.0.7->streamlit->-r requrements.txt (line 18)) (4.0.12)\n",
      "Requirement already satisfied: smmap<6,>=3.0.1 in f:\\study material\\nlp_rag _projects\\build_chatboat_with_llm_power_langchain\\.venv\\lib\\site-packages (from gitdb<5,>=4.0.1->gitpython!=3.1.19,<4,>=3.0.7->streamlit->-r requrements.txt (line 18)) (5.0.2)\n",
      "Requirement already satisfied: pytz>=2020.1 in f:\\study material\\nlp_rag _projects\\build_chatboat_with_llm_power_langchain\\.venv\\lib\\site-packages (from pandas<3,>=1.4.0->streamlit->-r requrements.txt (line 18)) (2025.2)\n",
      "Requirement already satisfied: tzdata>=2022.7 in f:\\study material\\nlp_rag _projects\\build_chatboat_with_llm_power_langchain\\.venv\\lib\\site-packages (from pandas<3,>=1.4.0->streamlit->-r requrements.txt (line 18)) (2025.2)\n",
      "Requirement already satisfied: ollama<1.0.0,>=0.5.3 in f:\\study material\\nlp_rag _projects\\build_chatboat_with_llm_power_langchain\\.venv\\lib\\site-packages (from langchain-ollama->-r requrements.txt (line 19)) (0.5.3)\n",
      "Requirement already satisfied: groq<1,>=0.30.0 in f:\\study material\\nlp_rag _projects\\build_chatboat_with_llm_power_langchain\\.venv\\lib\\site-packages (from langchain_groq->-r requrements.txt (line 20)) (0.31.1)\n",
      "Requirement already satisfied: starlette<0.48.0,>=0.40.0 in f:\\study material\\nlp_rag _projects\\build_chatboat_with_llm_power_langchain\\.venv\\lib\\site-packages (from fastapi->-r requrements.txt (line 23)) (0.47.3)\n",
      "Requirement already satisfied: pyproject_hooks in f:\\study material\\nlp_rag _projects\\build_chatboat_with_llm_power_langchain\\.venv\\lib\\site-packages (from build>=1.0.3->chromadb->-r requrements.txt (line 12)) (1.2.0)\n",
      "Requirement already satisfied: decorator in f:\\study material\\nlp_rag _projects\\build_chatboat_with_llm_power_langchain\\.venv\\lib\\site-packages (from ipython>=7.23.1->ipykernel->-r requrements.txt (line 2)) (5.2.1)\n",
      "Requirement already satisfied: ipython-pygments-lexers in f:\\study material\\nlp_rag _projects\\build_chatboat_with_llm_power_langchain\\.venv\\lib\\site-packages (from ipython>=7.23.1->ipykernel->-r requrements.txt (line 2)) (1.1.1)\n",
      "Requirement already satisfied: jedi>=0.16 in f:\\study material\\nlp_rag _projects\\build_chatboat_with_llm_power_langchain\\.venv\\lib\\site-packages (from ipython>=7.23.1->ipykernel->-r requrements.txt (line 2)) (0.19.2)\n",
      "Requirement already satisfied: prompt_toolkit<3.1.0,>=3.0.41 in f:\\study material\\nlp_rag _projects\\build_chatboat_with_llm_power_langchain\\.venv\\lib\\site-packages (from ipython>=7.23.1->ipykernel->-r requrements.txt (line 2)) (3.0.52)\n",
      "Requirement already satisfied: pygments>=2.4.0 in f:\\study material\\nlp_rag _projects\\build_chatboat_with_llm_power_langchain\\.venv\\lib\\site-packages (from ipython>=7.23.1->ipykernel->-r requrements.txt (line 2)) (2.19.2)\n",
      "Requirement already satisfied: stack_data in f:\\study material\\nlp_rag _projects\\build_chatboat_with_llm_power_langchain\\.venv\\lib\\site-packages (from ipython>=7.23.1->ipykernel->-r requrements.txt (line 2)) (0.6.3)\n",
      "Requirement already satisfied: wcwidth in f:\\study material\\nlp_rag _projects\\build_chatboat_with_llm_power_langchain\\.venv\\lib\\site-packages (from prompt_toolkit<3.1.0,>=3.0.41->ipython>=7.23.1->ipykernel->-r requrements.txt (line 2)) (0.2.13)\n",
      "Requirement already satisfied: parso<0.9.0,>=0.8.4 in f:\\study material\\nlp_rag _projects\\build_chatboat_with_llm_power_langchain\\.venv\\lib\\site-packages (from jedi>=0.16->ipython>=7.23.1->ipykernel->-r requrements.txt (line 2)) (0.8.5)\n",
      "Requirement already satisfied: MarkupSafe>=2.0 in f:\\study material\\nlp_rag _projects\\build_chatboat_with_llm_power_langchain\\.venv\\lib\\site-packages (from jinja2->altair!=5.4.0,!=5.4.1,<6,>=4.0->streamlit->-r requrements.txt (line 18)) (3.0.2)\n",
      "Requirement already satisfied: jsonschema-specifications>=2023.03.6 in f:\\study material\\nlp_rag _projects\\build_chatboat_with_llm_power_langchain\\.venv\\lib\\site-packages (from jsonschema>=4.19.0->chromadb->-r requrements.txt (line 12)) (2025.4.1)\n",
      "Requirement already satisfied: referencing>=0.28.4 in f:\\study material\\nlp_rag _projects\\build_chatboat_with_llm_power_langchain\\.venv\\lib\\site-packages (from jsonschema>=4.19.0->chromadb->-r requrements.txt (line 12)) (0.36.2)\n",
      "Requirement already satisfied: rpds-py>=0.7.1 in f:\\study material\\nlp_rag _projects\\build_chatboat_with_llm_power_langchain\\.venv\\lib\\site-packages (from jsonschema>=4.19.0->chromadb->-r requrements.txt (line 12)) (0.27.1)\n",
      "Requirement already satisfied: platformdirs>=2.5 in f:\\study material\\nlp_rag _projects\\build_chatboat_with_llm_power_langchain\\.venv\\lib\\site-packages (from jupyter-core!=5.0.*,>=4.12->ipykernel->-r requrements.txt (line 2)) (4.4.0)\n",
      "Requirement already satisfied: pywin32>=300 in f:\\study material\\nlp_rag _projects\\build_chatboat_with_llm_power_langchain\\.venv\\lib\\site-packages (from jupyter-core!=5.0.*,>=4.12->ipykernel->-r requrements.txt (line 2)) (311)\n",
      "Requirement already satisfied: google-auth>=1.0.1 in f:\\study material\\nlp_rag _projects\\build_chatboat_with_llm_power_langchain\\.venv\\lib\\site-packages (from kubernetes>=28.1.0->chromadb->-r requrements.txt (line 12)) (2.40.3)\n",
      "Requirement already satisfied: websocket-client!=0.40.0,!=0.41.*,!=0.42.*,>=0.32.0 in f:\\study material\\nlp_rag _projects\\build_chatboat_with_llm_power_langchain\\.venv\\lib\\site-packages (from kubernetes>=28.1.0->chromadb->-r requrements.txt (line 12)) (1.8.0)\n",
      "Requirement already satisfied: requests-oauthlib in f:\\study material\\nlp_rag _projects\\build_chatboat_with_llm_power_langchain\\.venv\\lib\\site-packages (from kubernetes>=28.1.0->chromadb->-r requrements.txt (line 12)) (2.0.0)\n",
      "Requirement already satisfied: oauthlib>=3.2.2 in f:\\study material\\nlp_rag _projects\\build_chatboat_with_llm_power_langchain\\.venv\\lib\\site-packages (from kubernetes>=28.1.0->chromadb->-r requrements.txt (line 12)) (3.3.1)\n",
      "Requirement already satisfied: durationpy>=0.7 in f:\\study material\\nlp_rag _projects\\build_chatboat_with_llm_power_langchain\\.venv\\lib\\site-packages (from kubernetes>=28.1.0->chromadb->-r requrements.txt (line 12)) (0.10)\n",
      "Requirement already satisfied: pyasn1-modules>=0.2.1 in f:\\study material\\nlp_rag _projects\\build_chatboat_with_llm_power_langchain\\.venv\\lib\\site-packages (from google-auth>=1.0.1->kubernetes>=28.1.0->chromadb->-r requrements.txt (line 12)) (0.4.2)\n",
      "Requirement already satisfied: rsa<5,>=3.1.4 in f:\\study material\\nlp_rag _projects\\build_chatboat_with_llm_power_langchain\\.venv\\lib\\site-packages (from google-auth>=1.0.1->kubernetes>=28.1.0->chromadb->-r requrements.txt (line 12)) (4.9.1)\n",
      "Requirement already satisfied: pyasn1>=0.1.3 in f:\\study material\\nlp_rag _projects\\build_chatboat_with_llm_power_langchain\\.venv\\lib\\site-packages (from rsa<5,>=3.1.4->google-auth>=1.0.1->kubernetes>=28.1.0->chromadb->-r requrements.txt (line 12)) (0.6.1)\n",
      "Requirement already satisfied: requests-toolbelt>=1.0.0 in f:\\study material\\nlp_rag _projects\\build_chatboat_with_llm_power_langchain\\.venv\\lib\\site-packages (from langsmith>=0.1.17->langchain->-r requrements.txt (line 1)) (1.0.0)\n",
      "Requirement already satisfied: zstandard>=0.23.0 in f:\\study material\\nlp_rag _projects\\build_chatboat_with_llm_power_langchain\\.venv\\lib\\site-packages (from langsmith>=0.1.17->langchain->-r requrements.txt (line 1)) (0.24.0)\n",
      "Requirement already satisfied: coloredlogs in f:\\study material\\nlp_rag _projects\\build_chatboat_with_llm_power_langchain\\.venv\\lib\\site-packages (from onnxruntime>=1.14.1->chromadb->-r requrements.txt (line 12)) (15.0.1)\n",
      "Requirement already satisfied: flatbuffers in f:\\study material\\nlp_rag _projects\\build_chatboat_with_llm_power_langchain\\.venv\\lib\\site-packages (from onnxruntime>=1.14.1->chromadb->-r requrements.txt (line 12)) (25.2.10)\n",
      "Requirement already satisfied: sympy in f:\\study material\\nlp_rag _projects\\build_chatboat_with_llm_power_langchain\\.venv\\lib\\site-packages (from onnxruntime>=1.14.1->chromadb->-r requrements.txt (line 12)) (1.14.0)\n",
      "Requirement already satisfied: importlib-metadata<8.8.0,>=6.0 in f:\\study material\\nlp_rag _projects\\build_chatboat_with_llm_power_langchain\\.venv\\lib\\site-packages (from opentelemetry-api>=1.2.0->chromadb->-r requrements.txt (line 12)) (8.7.0)\n",
      "Requirement already satisfied: zipp>=3.20 in f:\\study material\\nlp_rag _projects\\build_chatboat_with_llm_power_langchain\\.venv\\lib\\site-packages (from importlib-metadata<8.8.0,>=6.0->opentelemetry-api>=1.2.0->chromadb->-r requrements.txt (line 12)) (3.23.0)\n",
      "Requirement already satisfied: googleapis-common-protos~=1.57 in f:\\study material\\nlp_rag _projects\\build_chatboat_with_llm_power_langchain\\.venv\\lib\\site-packages (from opentelemetry-exporter-otlp-proto-grpc>=1.2.0->chromadb->-r requrements.txt (line 12)) (1.70.0)\n",
      "Requirement already satisfied: opentelemetry-exporter-otlp-proto-common==1.36.0 in f:\\study material\\nlp_rag _projects\\build_chatboat_with_llm_power_langchain\\.venv\\lib\\site-packages (from opentelemetry-exporter-otlp-proto-grpc>=1.2.0->chromadb->-r requrements.txt (line 12)) (1.36.0)\n",
      "Requirement already satisfied: opentelemetry-proto==1.36.0 in f:\\study material\\nlp_rag _projects\\build_chatboat_with_llm_power_langchain\\.venv\\lib\\site-packages (from opentelemetry-exporter-otlp-proto-grpc>=1.2.0->chromadb->-r requrements.txt (line 12)) (1.36.0)\n",
      "Requirement already satisfied: opentelemetry-semantic-conventions==0.57b0 in f:\\study material\\nlp_rag _projects\\build_chatboat_with_llm_power_langchain\\.venv\\lib\\site-packages (from opentelemetry-sdk>=1.2.0->chromadb->-r requrements.txt (line 12)) (0.57b0)\n",
      "Requirement already satisfied: markdown-it-py>=2.2.0 in f:\\study material\\nlp_rag _projects\\build_chatboat_with_llm_power_langchain\\.venv\\lib\\site-packages (from rich>=10.11.0->chromadb->-r requrements.txt (line 12)) (4.0.0)\n",
      "Requirement already satisfied: mdurl~=0.1 in f:\\study material\\nlp_rag _projects\\build_chatboat_with_llm_power_langchain\\.venv\\lib\\site-packages (from markdown-it-py>=2.2.0->rich>=10.11.0->chromadb->-r requrements.txt (line 12)) (0.1.2)\n",
      "Requirement already satisfied: networkx in f:\\study material\\nlp_rag _projects\\build_chatboat_with_llm_power_langchain\\.venv\\lib\\site-packages (from torch>=1.11.0->sentence_transformers->-r requrements.txt (line 13)) (3.5)\n",
      "Requirement already satisfied: mpmath<1.4,>=1.1.0 in f:\\study material\\nlp_rag _projects\\build_chatboat_with_llm_power_langchain\\.venv\\lib\\site-packages (from sympy->onnxruntime>=1.14.1->chromadb->-r requrements.txt (line 12)) (1.3.0)\n",
      "Requirement already satisfied: shellingham>=1.3.0 in f:\\study material\\nlp_rag _projects\\build_chatboat_with_llm_power_langchain\\.venv\\lib\\site-packages (from typer>=0.9.0->chromadb->-r requrements.txt (line 12)) (1.5.4)\n",
      "Requirement already satisfied: httptools>=0.6.3 in f:\\study material\\nlp_rag _projects\\build_chatboat_with_llm_power_langchain\\.venv\\lib\\site-packages (from uvicorn[standard]>=0.18.3->chromadb->-r requrements.txt (line 12)) (0.6.4)\n",
      "Requirement already satisfied: watchfiles>=0.13 in f:\\study material\\nlp_rag _projects\\build_chatboat_with_llm_power_langchain\\.venv\\lib\\site-packages (from uvicorn[standard]>=0.18.3->chromadb->-r requrements.txt (line 12)) (1.1.0)\n",
      "Requirement already satisfied: websockets>=10.4 in f:\\study material\\nlp_rag _projects\\build_chatboat_with_llm_power_langchain\\.venv\\lib\\site-packages (from uvicorn[standard]>=0.18.3->chromadb->-r requrements.txt (line 12)) (15.0.1)\n",
      "Requirement already satisfied: soupsieve>1.2 in f:\\study material\\nlp_rag _projects\\build_chatboat_with_llm_power_langchain\\.venv\\lib\\site-packages (from beautifulsoup4->bs4->-r requrements.txt (line 6)) (2.8)\n",
      "Requirement already satisfied: humanfriendly>=9.1 in f:\\study material\\nlp_rag _projects\\build_chatboat_with_llm_power_langchain\\.venv\\lib\\site-packages (from coloredlogs->onnxruntime>=1.14.1->chromadb->-r requrements.txt (line 12)) (10.0)\n",
      "Requirement already satisfied: pyreadline3 in f:\\study material\\nlp_rag _projects\\build_chatboat_with_llm_power_langchain\\.venv\\lib\\site-packages (from humanfriendly>=9.1->coloredlogs->onnxruntime>=1.14.1->chromadb->-r requrements.txt (line 12)) (3.5.4)\n",
      "Requirement already satisfied: joblib>=1.2.0 in f:\\study material\\nlp_rag _projects\\build_chatboat_with_llm_power_langchain\\.venv\\lib\\site-packages (from scikit-learn->sentence_transformers->-r requrements.txt (line 13)) (1.5.2)\n",
      "Requirement already satisfied: threadpoolctl>=3.1.0 in f:\\study material\\nlp_rag _projects\\build_chatboat_with_llm_power_langchain\\.venv\\lib\\site-packages (from scikit-learn->sentence_transformers->-r requrements.txt (line 13)) (3.6.0)\n",
      "Requirement already satisfied: executing>=1.2.0 in f:\\study material\\nlp_rag _projects\\build_chatboat_with_llm_power_langchain\\.venv\\lib\\site-packages (from stack_data->ipython>=7.23.1->ipykernel->-r requrements.txt (line 2)) (2.2.1)\n",
      "Requirement already satisfied: asttokens>=2.1.0 in f:\\study material\\nlp_rag _projects\\build_chatboat_with_llm_power_langchain\\.venv\\lib\\site-packages (from stack_data->ipython>=7.23.1->ipykernel->-r requrements.txt (line 2)) (3.0.0)\n",
      "Requirement already satisfied: pure-eval in f:\\study material\\nlp_rag _projects\\build_chatboat_with_llm_power_langchain\\.venv\\lib\\site-packages (from stack_data->ipython>=7.23.1->ipykernel->-r requrements.txt (line 2)) (0.2.3)\n",
      "Using cached langchain_chroma-0.2.5-py3-none-any.whl (12 kB)\n",
      "Installing collected packages: langchain_chroma\n",
      "Successfully installed langchain_chroma-0.2.5\n"
     ]
    }
   ],
   "source": [
    "! pip install -r requrements.txt"
   ]
  },
  {
   "cell_type": "code",
   "execution_count": null,
   "id": "a1d11dd6",
   "metadata": {},
   "outputs": [],
   "source": [
    "import os \n",
    "# from dotenv import load_dotenv\n",
    "# load_dotenv()\n",
    "\n",
    "# groq_api_key=os.getenv(\"Groq_key\")\n",
    "# groq_api_key"
   ]
  },
  {
   "cell_type": "code",
   "execution_count": null,
   "id": "7d8aecb2",
   "metadata": {},
   "outputs": [
    {
     "data": {
      "text/plain": [
       "ChatGroq(client=<groq.resources.chat.completions.Completions object at 0x000001B42661BE10>, async_client=<groq.resources.chat.completions.AsyncCompletions object at 0x000001B4267631D0>, model_name='Gemma2-9b-It', model_kwargs={}, groq_api_key=SecretStr('**********'))"
      ]
     },
     "execution_count": 3,
     "metadata": {},
     "output_type": "execute_result"
    }
   ],
   "source": [
    "\n",
    "from langchain_openai import ChatOpenAI\n",
    "from langchain_groq import ChatGroq\n",
    "# model= ChatGroq(model=\"Gemma2-9b-It\",groq_api_key=groq_api_key)\n",
    "model"
   ]
  },
  {
   "cell_type": "code",
   "execution_count": 4,
   "id": "2db88d86",
   "metadata": {},
   "outputs": [
    {
     "data": {
      "text/plain": [
       "AIMessage(content=\"Hello Krishna! It's a pleasure to meet you. That's a fantastic title!\\n\\nAs a chief AI engineer, what kind of projects are you working on these days? I'm always interested in learning more about the innovative things people are doing with AI.\\n\", additional_kwargs={}, response_metadata={'token_usage': {'completion_tokens': 58, 'prompt_tokens': 21, 'total_tokens': 79, 'completion_time': 0.105454545, 'prompt_time': 0.00132173, 'queue_time': 0.249424739, 'total_time': 0.106776275}, 'model_name': 'Gemma2-9b-It', 'system_fingerprint': 'fp_10c08bf97d', 'service_tier': 'on_demand', 'finish_reason': 'stop', 'logprobs': None}, id='run--d7db6aac-d49c-481a-b8e2-b4e4a9bd3099-0', usage_metadata={'input_tokens': 21, 'output_tokens': 58, 'total_tokens': 79})"
      ]
     },
     "execution_count": 4,
     "metadata": {},
     "output_type": "execute_result"
    }
   ],
   "source": [
    "from langchain_core.messages import HumanMessage\n",
    "\n",
    "\n",
    "model.invoke([HumanMessage(content=\"Hi,my name is krishna and ia am chief AI Engineer\")])"
   ]
  },
  {
   "cell_type": "code",
   "execution_count": 5,
   "id": "7a1d19fd",
   "metadata": {},
   "outputs": [
    {
     "data": {
      "text/plain": [
       "AIMessage(content='You told me your name is Krishna and that you are a Chief AI Engineer!  \\n\\nIs there anything else I can help you with? 😊  \\n', additional_kwargs={}, response_metadata={'token_usage': {'completion_tokens': 33, 'prompt_tokens': 91, 'total_tokens': 124, 'completion_time': 0.06, 'prompt_time': 0.00263538, 'queue_time': 0.247336059, 'total_time': 0.06263538}, 'model_name': 'Gemma2-9b-It', 'system_fingerprint': 'fp_10c08bf97d', 'service_tier': 'on_demand', 'finish_reason': 'stop', 'logprobs': None}, id='run--91ca4a60-25a3-4aa8-ae7e-327b92fd3075-0', usage_metadata={'input_tokens': 91, 'output_tokens': 33, 'total_tokens': 124})"
      ]
     },
     "execution_count": 5,
     "metadata": {},
     "output_type": "execute_result"
    }
   ],
   "source": [
    "from langchain_core.messages import AIMessage\n",
    "model.invoke([HumanMessage(content=\"Hi,my name is krishna and ia am chief AI Engineer\"),\n",
    "              AIMessage(content=\"Hi Krishna, it's nice to meet you! That's a very impressive title. \\n\\nWhat kind of AI projects are you working on these days?  I'm always interested to hear about what people are doing in the field.\"),\n",
    "              HumanMessage(content=\"hey what is my name and what is my designation\")\n",
    "              ])"
   ]
  },
  {
   "cell_type": "markdown",
   "id": "60171e30",
   "metadata": {},
   "source": [
    "###  Message History \n",
    "\n",
    "We can use a message History class to wrap up our model and make it statefull .This will keep track of input and output of the model ,and store them in some datastore.future intraction will then load those messages and pass them into the chain as part of the input ."
   ]
  },
  {
   "cell_type": "code",
   "execution_count": 6,
   "id": "de684d02",
   "metadata": {},
   "outputs": [],
   "source": [
    "from langchain_community.vectorstores import FAISS\n",
    "from langchain_community.chat_message_histories import ChatMessageHistory\n",
    "from langchain_core.chat_history import BaseChatMessageHistory\n",
    "from langchain_core.runnables.history import RunnableWithMessageHistory\n",
    "store={}\n",
    "def get_session_history(session_id:str)->BaseChatMessageHistory:\n",
    "    if session_id not in store:\n",
    "        store[session_id]=ChatMessageHistory()\n",
    "    return store[session_id]\n",
    "\n",
    "with_message_history=RunnableWithMessageHistory(model,get_session_history)"
   ]
  },
  {
   "cell_type": "code",
   "execution_count": 7,
   "id": "9b3de56e",
   "metadata": {},
   "outputs": [],
   "source": [
    "config={\"configurable\":{\"session_id\":\"chat1\"}}\n"
   ]
  },
  {
   "cell_type": "code",
   "execution_count": 8,
   "id": "f17fc300",
   "metadata": {},
   "outputs": [],
   "source": [
    "Response=with_message_history.invoke(\n",
    "    [\n",
    "        HumanMessage(content=\"Hi ,My name is Krishna and i am a python devloper\")\n",
    "    ],config=config\n",
    ")"
   ]
  },
  {
   "cell_type": "code",
   "execution_count": 9,
   "id": "a77207df",
   "metadata": {},
   "outputs": [
    {
     "data": {
      "text/plain": [
       "\"Hi Krishna, it's nice to meet you!\\n\\nThat's awesome that you're a Python developer.  \\n\\nWhat kind of projects are you working on these days? Do you have any particular areas of Python development that you're passionate about?\\n\""
      ]
     },
     "execution_count": 9,
     "metadata": {},
     "output_type": "execute_result"
    }
   ],
   "source": [
    "Response.content"
   ]
  },
  {
   "cell_type": "code",
   "execution_count": 11,
   "id": "a20896aa",
   "metadata": {},
   "outputs": [
    {
     "data": {
      "text/plain": [
       "'You told me your name is Krishna earlier!  \\n\\nIs there something specific you want to know about your name, or are you just checking?  😄\\n'"
      ]
     },
     "execution_count": 11,
     "metadata": {},
     "output_type": "execute_result"
    }
   ],
   "source": [
    "Response=with_message_history.invoke(\n",
    "    [\n",
    "        HumanMessage(content=\"what is my name\")\n",
    "    ],config=config\n",
    ")\n",
    "Response.content"
   ]
  },
  {
   "cell_type": "code",
   "execution_count": 12,
   "id": "413b8e64",
   "metadata": {},
   "outputs": [
    {
     "data": {
      "text/plain": [
       "\"As an AI, I have no access to your personal information, including your name. If you'd like to tell me your name, I'd be happy to know!\\n\""
      ]
     },
     "execution_count": 12,
     "metadata": {},
     "output_type": "execute_result"
    }
   ],
   "source": [
    "## Change the config---->Session id\n",
    "\n",
    "config1={\"configurable\":{\"session_id\":\"chat2\"}}\n",
    "Response=with_message_history.invoke(\n",
    "    [\n",
    "        HumanMessage(content=\"what is my name\")\n",
    "    ],config=config1\n",
    ")\n",
    "Response.content"
   ]
  },
  {
   "cell_type": "markdown",
   "id": "e53117d2",
   "metadata": {},
   "source": [
    "## Promp Templates\n",
    "\n",
    "Prompt Templates Help to turn user information into a format that can work with . in this case the raw user input is a just message,which we are passing to the LLM.Lets now make that a bit more complicated.firstlets add in a system message with some custom instruction (But still taking message as input ) .Next we'll add in more input besides just the message.\n",
    "\n"
   ]
  },
  {
   "cell_type": "code",
   "execution_count": 13,
   "id": "780978dc",
   "metadata": {},
   "outputs": [],
   "source": [
    "from langchain_core.prompts import ChatPromptTemplate ,MessagesPlaceholder\n",
    "\n",
    "prompt=ChatPromptTemplate.from_messages([\n",
    "    (\"system\",\"you are helpfull assistent .Answer allthe question to the best of your ability\"),\n",
    "    MessagesPlaceholder(variable_name=\"messages\")\n",
    "])\n",
    "\n",
    "chain=prompt|model"
   ]
  },
  {
   "cell_type": "code",
   "execution_count": 14,
   "id": "fcdee244",
   "metadata": {},
   "outputs": [
    {
     "data": {
      "text/plain": [
       "AIMessage(content=\"Hello Krishna, it's nice to meet you! \\n\\nI'm ready to help with any questions you have. Just ask away! 😊  \\n\", additional_kwargs={}, response_metadata={'token_usage': {'completion_tokens': 34, 'prompt_tokens': 31, 'total_tokens': 65, 'completion_time': 0.061818182, 'prompt_time': 0.00147471, 'queue_time': 0.250532459, 'total_time': 0.063292892}, 'model_name': 'Gemma2-9b-It', 'system_fingerprint': 'fp_10c08bf97d', 'service_tier': 'on_demand', 'finish_reason': 'stop', 'logprobs': None}, id='run--445e53fe-a29e-45b3-b655-93d35139349e-0', usage_metadata={'input_tokens': 31, 'output_tokens': 34, 'total_tokens': 65})"
      ]
     },
     "execution_count": 14,
     "metadata": {},
     "output_type": "execute_result"
    }
   ],
   "source": [
    "chain.invoke({\"messages\":[HumanMessage(content=\"Hi my name is krishna\")]})"
   ]
  },
  {
   "cell_type": "code",
   "execution_count": 15,
   "id": "67c76ded",
   "metadata": {},
   "outputs": [],
   "source": [
    "with_message_history=RunnableWithMessageHistory(chain,get_session_history)"
   ]
  },
  {
   "cell_type": "code",
   "execution_count": 20,
   "id": "09d172c5",
   "metadata": {},
   "outputs": [
    {
     "data": {
      "text/plain": [
       "\"Hello Krishna, it's nice to meet you! \\n\\nI'm happy to help with any questions you have. Just ask away! 😊 \\n\\nWhat can I do for you today?  \\n\\n\""
      ]
     },
     "execution_count": 20,
     "metadata": {},
     "output_type": "execute_result"
    }
   ],
   "source": [
    "config={\"configurable\":{\"session_id\":\"chat3\"}}\n",
    "Response=with_message_history.invoke([\n",
    "    HumanMessage(content=\"hi my name is krishna\") \n",
    "],config=config)\n",
    "Response.content"
   ]
  },
  {
   "cell_type": "code",
   "execution_count": null,
   "id": "d3c1fd45",
   "metadata": {},
   "outputs": [],
   "source": [
    "## Add more complexity\n",
    "prompt=ChatPromptTemplate.from_messages([\n",
    "    (\n",
    "        \"system\",\n",
    "        \"you are a helpfull assistant . Answer all questions to the best of your ability in {language}\"\n",
    "    ),\n",
    "    MessagesPlaceholder(variable_name=\"messages\"),\n",
    "])\n",
    "chain=prompt|model"
   ]
  },
  {
   "cell_type": "code",
   "execution_count": 22,
   "id": "bf03ac64",
   "metadata": {},
   "outputs": [
    {
     "data": {
      "text/plain": [
       "'नमस्ते कृष्ण! मैं आपकी मदद करने के लिए यहाँ हूँ। आपके कोई सवाल हैं? मैं अपनी पूरी कोशिश करूँगा कि जितनी अच्छी तरह से हो सके उत्तर दे सकूँ।  \\n'"
      ]
     },
     "execution_count": 22,
     "metadata": {},
     "output_type": "execute_result"
    }
   ],
   "source": [
    "Response=chain.invoke({\"messages\":\n",
    "                       [\n",
    "                           HumanMessage(content=\"hi my name is krishna\")\n",
    "                       ],\"language\":\"Hindi\"})\n",
    "Response.content"
   ]
  },
  {
   "cell_type": "markdown",
   "id": "46c3ad8b",
   "metadata": {},
   "source": [
    "Lets now Wrap this more complicated chain in a message History class. This timebecouse there are multiple keys in the input ,we need to specify the correct key to use to save the chat History."
   ]
  },
  {
   "cell_type": "code",
   "execution_count": 23,
   "id": "b9afe61e",
   "metadata": {},
   "outputs": [],
   "source": [
    "with_message_history=RunnableWithMessageHistory(\n",
    "chain,\n",
    "get_session_history,\n",
    "input_messages_key=\"messages\"\n",
    ")"
   ]
  },
  {
   "cell_type": "code",
   "execution_count": 25,
   "id": "911aee5d",
   "metadata": {},
   "outputs": [
    {
     "data": {
      "text/plain": [
       "'Namaste Krishna!  \\n\\nमुझे प्\\u200dयारे कृष्\\u200dण से मिलाना बहुत अच्छा लगा।  😊 \\n\\nआप कैसे हैं? \\n'"
      ]
     },
     "execution_count": 25,
     "metadata": {},
     "output_type": "execute_result"
    }
   ],
   "source": [
    "config={\"configurable\":{\"session_id\":\"chat3\"}}\n",
    "Response=with_message_history.invoke(\n",
    "    {\n",
    "        'messages':[\n",
    "            HumanMessage(content=\"Hi,I am Krishna\")\n",
    "        ],\"language\":\"Hindi\"\n",
    "    },config=config\n",
    ")\n",
    "Response.content"
   ]
  },
  {
   "cell_type": "code",
   "execution_count": 27,
   "id": "6483d15a",
   "metadata": {},
   "outputs": [
    {
     "data": {
      "text/plain": [
       "'आपका नाम कृष्ण है। 😊  \\n'"
      ]
     },
     "execution_count": 27,
     "metadata": {},
     "output_type": "execute_result"
    }
   ],
   "source": [
    "Response=with_message_history.invoke(\n",
    "    {\n",
    "        'messages':[\n",
    "            HumanMessage(content=\"what is my name\")\n",
    "        ],\"language\":\"Hindi\"\n",
    "    },config=config\n",
    ")\n",
    "Response.content"
   ]
  },
  {
   "cell_type": "markdown",
   "id": "3dac4aff",
   "metadata": {},
   "source": [
    "## Managing The Conversation History\n",
    "\n",
    "One importent concepts tounderstand when building chatboats is how to manage conversation history .if left unmanaged the list of messages will grow unbounded and potentially overflow the context window of the LLM. Therfore it is importent to add a step that limits the size of the messages you are passing in.\n",
    "\n",
    "'trim_messages' helper to reduce how many messages we're sending to the model .The trimmer allow us to specify how may tokens we want ti keep .along with other parameter like if we want to always keep the system message and whether to allow partial messages. "
   ]
  },
  {
   "cell_type": "code",
   "execution_count": 39,
   "id": "6c2d4039",
   "metadata": {},
   "outputs": [
    {
     "data": {
      "text/plain": [
       "[SystemMessage(content='you are good assistent', additional_kwargs={}, response_metadata={}),\n",
       " HumanMessage(content='i like vanila ice cream', additional_kwargs={}, response_metadata={}),\n",
       " AIMessage(content='nice', additional_kwargs={}, response_metadata={}),\n",
       " HumanMessage(content='what is 2+2', additional_kwargs={}, response_metadata={}),\n",
       " AIMessage(content='4', additional_kwargs={}, response_metadata={}),\n",
       " HumanMessage(content='thanks', additional_kwargs={}, response_metadata={}),\n",
       " AIMessage(content='no problem!', additional_kwargs={}, response_metadata={}),\n",
       " HumanMessage(content='having Fun!', additional_kwargs={}, response_metadata={}),\n",
       " AIMessage(content='yes!', additional_kwargs={}, response_metadata={})]"
      ]
     },
     "execution_count": 39,
     "metadata": {},
     "output_type": "execute_result"
    }
   ],
   "source": [
    "from langchain_core.messages import SystemMessage,trim_messages\n",
    "trimmer=trim_messages(\n",
    "max_tokens=45,\n",
    "strategy=\"last\",\n",
    "token_counter=model,\n",
    "include_system=True,\n",
    "allow_partial=False,\n",
    "start_on=\"human\"\n",
    ")\n",
    "\n",
    "messages=[\n",
    "\n",
    "    SystemMessage(content=\"you are good assistent\"),\n",
    "    HumanMessage(content=\"hi i am a krishna\"),\n",
    "    AIMessage(content=\"hi!\"),\n",
    "    HumanMessage(content=\"i like vanila ice cream\"),\n",
    "    AIMessage(content=\"nice\"),\n",
    "    HumanMessage(content=\"what is 2+2\"),\n",
    "    AIMessage(content=\"4\"),\n",
    "    HumanMessage(content=\"thanks\"),\n",
    "    AIMessage(content=\"no problem!\"),\n",
    "    HumanMessage(content=\"having Fun!\"),\n",
    "    AIMessage(content=\"yes!\"),\n",
    "    \n",
    "]\n",
    "trimmer.invoke(messages)"
   ]
  },
  {
   "cell_type": "code",
   "execution_count": 40,
   "id": "af33f4bf",
   "metadata": {},
   "outputs": [
    {
     "data": {
      "text/plain": [
       "\"As an AI, I don't have access to your personal information, including your ice cream preferences! \\n\\nWhat's your favorite flavor? 😊🍦  \\n\\n\\n\\n\\n\""
      ]
     },
     "execution_count": 40,
     "metadata": {},
     "output_type": "execute_result"
    }
   ],
   "source": [
    "from operator import itemgetter\n",
    "from langchain_core.runnables import RunnablePassthrough\n",
    "\n",
    "chain=(\n",
    "    RunnablePassthrough.assign(messages=itemgetter(\"messages\")|trimmer)\n",
    "    |prompt\n",
    "    |model\n",
    "\n",
    ")\n",
    "Response=chain.invoke(\n",
    "    {\n",
    "\n",
    "    \"messages\": messages + [ HumanMessage(content=\"what ice cream do i like\")],\n",
    "\"language\":\"English\"\n",
    "}\n",
    ")\n",
    "\n",
    "Response.content"
   ]
  },
  {
   "cell_type": "code",
   "execution_count": 41,
   "id": "938362b5",
   "metadata": {},
   "outputs": [
    {
     "data": {
      "text/plain": [
       "\"You asked: 2 + 2 \\n\\n\\n\\nLet me know if you'd like to try another one! 😊  \\n\""
      ]
     },
     "execution_count": 41,
     "metadata": {},
     "output_type": "execute_result"
    }
   ],
   "source": [
    "Response=chain.invoke(\n",
    "    {\n",
    "\n",
    "    \"messages\": messages + [ HumanMessage(content=\"what math problem i asked\")],\n",
    "\"language\":\"English\"\n",
    "}\n",
    ")\n",
    "\n",
    "Response.content"
   ]
  },
  {
   "cell_type": "code",
   "execution_count": 42,
   "id": "3f9fc017",
   "metadata": {},
   "outputs": [
    {
     "data": {
      "text/plain": [
       "'You asked \"What is 2+2?\"  😊 \\n\\n\\n'"
      ]
     },
     "execution_count": 42,
     "metadata": {},
     "output_type": "execute_result"
    }
   ],
   "source": [
    "## Wrap this in the message History\n",
    "\n",
    "with_message_history=RunnableWithMessageHistory(\n",
    "    chain,\n",
    "    get_session_history,\n",
    "    input_messages_key=\"messages\"\n",
    ")\n",
    "config={\"configurable\":{\"session_id\":\"chat4\"}}\n",
    "\n",
    "\n",
    "Response=with_message_history.invoke(\n",
    "    {\n",
    "\n",
    "    \"messages\": messages + [ HumanMessage(content=\"what math problem i asked\")],\n",
    "\"language\":\"English\"\n",
    "},\n",
    "config=config\n",
    ")\n",
    "\n",
    "Response.content\n"
   ]
  }
 ],
 "metadata": {
  "kernelspec": {
   "display_name": ".venv",
   "language": "python",
   "name": "python3"
  },
  "language_info": {
   "codemirror_mode": {
    "name": "ipython",
    "version": 3
   },
   "file_extension": ".py",
   "mimetype": "text/x-python",
   "name": "python",
   "nbconvert_exporter": "python",
   "pygments_lexer": "ipython3",
   "version": "3.11.4"
  }
 },
 "nbformat": 4,
 "nbformat_minor": 5
}
