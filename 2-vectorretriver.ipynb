{
 "cells": [
  {
   "cell_type": "markdown",
   "id": "175a883f",
   "metadata": {},
   "source": [
    "## Vector stores and retivers\n",
    "\n",
    "This video tutorial will familliarize you with langchain vectore store and retiver abstraction .These abstraction are designed to support retrival of data -- from (vectore )databases and othersources --for intigration with  LLm workflow .The are importent for application that fetch data to be reasoned over as part of model inferance .as in the case of retrieval-augumented genration.\n",
    "\n",
    "we will cover:\n",
    "\n",
    "   Documents\n",
    "   \n",
    "   Vector Store\n",
    "\n",
    "   Retrivers"
   ]
  },
  {
   "cell_type": "markdown",
   "id": "75009416",
   "metadata": {},
   "source": [
    "## Documents\n",
    "\n",
    "Langchain Implements a Documents abstraction which is indepeded to represent a unit of text and associated metadata it has two attributes:\n",
    "\n",
    "page_content: a string representing the content ,\n",
    "\n",
    "Metedata: a dict containing arbitory metadata. The metadata attribute can capture information about the source of the document its relationship to other documents and other information  note that an individual Document objectsoften respresent a chunks of a larger documents.\n",
    "\n",
    "lets genrate some sample documents:"
   ]
  },
  {
   "cell_type": "code",
   "execution_count": 6,
   "id": "bf1aaf25",
   "metadata": {},
   "outputs": [],
   "source": [
    "from langchain_core.documents import Document\n",
    "documents=[\n",
    " Document(\n",
    "    page_content=\"Dogs are great companions,known for there loyalty and freandliness\",\n",
    "    metadata={\"source\": \"mammal-pet-doc\"},\n",
    "),\n",
    "Document(\n",
    "    page_content=\"Cats are independent pets that often enjoy there own space\",\n",
    "    metadata={\"source\": \"mammal-pet-doc\"},\n",
    "),\n",
    " Document(\n",
    "    page_content=\"Gold fish are popular pets for beginners,requireing relatively simple care\",\n",
    "    metadata={\"source\": \"fish-pet-doc\"},\n",
    "),\n",
    "Document(\n",
    "    page_content=\"parrots are intelligent birds capable of mimicking human speech\",\n",
    "    metadata={\"source\": \"bird-pet-doc\"},\n",
    "),\n",
    "Document(\n",
    "    page_content=\"Rabbits are social animals that need plenty of space to hop arround\",\n",
    "    metadata={\"source\": \"mammal-pet-doc\"},\n",
    "),\n",
    "\n",
    "\n",
    "]\n",
    "\n"
   ]
  },
  {
   "cell_type": "code",
   "execution_count": 7,
   "id": "0dcda865",
   "metadata": {},
   "outputs": [
    {
     "data": {
      "text/plain": [
       "[Document(metadata={'source': 'mammal-pet-doc'}, page_content='Dogs are great companions,known for there loyalty and freandliness'),\n",
       " Document(metadata={'source': 'mammal-pet-doc'}, page_content='Cats are independent pets that often enjoy there own space'),\n",
       " Document(metadata={'source': 'fish-pet-doc'}, page_content='Gold fish are popular pets for beginners,requireing relatively simple care'),\n",
       " Document(metadata={'source': 'bird-pet-doc'}, page_content='parrots are intelligent birds capable of mimicking human speech'),\n",
       " Document(metadata={'source': 'mammal-pet-doc'}, page_content='Rabbits are social animals that need plenty of space to hop arround')]"
      ]
     },
     "execution_count": 7,
     "metadata": {},
     "output_type": "execute_result"
    }
   ],
   "source": [
    "documents"
   ]
  },
  {
   "cell_type": "code",
   "execution_count": 21,
   "id": "913b0d80",
   "metadata": {},
   "outputs": [
    {
     "data": {
      "text/plain": [
       "ChatGroq(client=<groq.resources.chat.completions.Completions object at 0x000001A50FDD7610>, async_client=<groq.resources.chat.completions.AsyncCompletions object at 0x000001A50FDD4390>, model_name='llama-3.1-8b-instant', model_kwargs={}, groq_api_key=SecretStr('**********'))"
      ]
     },
     "execution_count": 21,
     "metadata": {},
     "output_type": "execute_result"
    }
   ],
   "source": [
    "import os\n",
    "from dotenv import load_dotenv\n",
    "from langchain_groq import ChatGroq\n",
    "load_dotenv()\n",
    "groq_api_key=os.getenv(\"Groq_key\")\n",
    "os.environ[\"HF_token\"]=os.getenv(\"HF_token\")\n",
    "llm=ChatGroq(groq_api_key=groq_api_key, model=\"llama-3.1-8b-instant\")#\"Llama3-8b-8192\"\n",
    "llm"
   ]
  },
  {
   "cell_type": "code",
   "execution_count": 22,
   "id": "de5d64d4",
   "metadata": {},
   "outputs": [],
   "source": [
    "from langchain_huggingface import HuggingFaceEmbeddings\n",
    "\n",
    "embeddings=HuggingFaceEmbeddings(model_name=\"all-MiniLM-L6-v2\")"
   ]
  },
  {
   "cell_type": "code",
   "execution_count": 23,
   "id": "abeaf39c",
   "metadata": {},
   "outputs": [
    {
     "data": {
      "text/plain": [
       "<langchain_chroma.vectorstores.Chroma at 0x1a50fdea350>"
      ]
     },
     "execution_count": 23,
     "metadata": {},
     "output_type": "execute_result"
    }
   ],
   "source": [
    "## VectoreStore \n",
    "from langchain_chroma import Chroma\n",
    "vectorestore=Chroma.from_documents(documents,embedding=embeddings)\n",
    "vectorestore"
   ]
  },
  {
   "cell_type": "code",
   "execution_count": 24,
   "id": "5d656ecf",
   "metadata": {},
   "outputs": [
    {
     "data": {
      "text/plain": [
       "[Document(id='f582ba1f-bc87-4a2e-938f-6a3afa6e1718', metadata={'source': 'mammal-pet-doc'}, page_content='Cats are independent pets that often enjoy there own space'),\n",
       " Document(id='0e00be5e-afa3-4920-8293-69e57f95f680', metadata={'source': 'mammal-pet-doc'}, page_content='Cats are independent pets that often enjoy there own space'),\n",
       " Document(id='d3745c1c-8a84-4f97-8270-8c8aeb1cd673', metadata={'source': 'mammal-pet-doc'}, page_content='Dogs are great companions,known for there loyalty and freandliness'),\n",
       " Document(id='ad229132-6b60-474a-9b14-cae13188f869', metadata={'source': 'mammal-pet-doc'}, page_content='Dogs are great companions,known for there loyalty and freandliness')]"
      ]
     },
     "execution_count": 24,
     "metadata": {},
     "output_type": "execute_result"
    }
   ],
   "source": [
    "vectorestore.similarity_search(\"cat\")"
   ]
  },
  {
   "cell_type": "code",
   "execution_count": 25,
   "id": "7fad6bc0",
   "metadata": {},
   "outputs": [
    {
     "data": {
      "text/plain": [
       "[Document(id='f582ba1f-bc87-4a2e-938f-6a3afa6e1718', metadata={'source': 'mammal-pet-doc'}, page_content='Cats are independent pets that often enjoy there own space'),\n",
       " Document(id='0e00be5e-afa3-4920-8293-69e57f95f680', metadata={'source': 'mammal-pet-doc'}, page_content='Cats are independent pets that often enjoy there own space'),\n",
       " Document(id='d3745c1c-8a84-4f97-8270-8c8aeb1cd673', metadata={'source': 'mammal-pet-doc'}, page_content='Dogs are great companions,known for there loyalty and freandliness'),\n",
       " Document(id='ad229132-6b60-474a-9b14-cae13188f869', metadata={'source': 'mammal-pet-doc'}, page_content='Dogs are great companions,known for there loyalty and freandliness')]"
      ]
     },
     "execution_count": 25,
     "metadata": {},
     "output_type": "execute_result"
    }
   ],
   "source": [
    "## Async Qurey\n",
    "await vectorestore.asimilarity_search(\"cat\")"
   ]
  },
  {
   "cell_type": "code",
   "execution_count": 26,
   "id": "421e6326",
   "metadata": {},
   "outputs": [
    {
     "data": {
      "text/plain": [
       "[(Document(id='f582ba1f-bc87-4a2e-938f-6a3afa6e1718', metadata={'source': 'mammal-pet-doc'}, page_content='Cats are independent pets that often enjoy there own space'),\n",
       "  0.9529241323471069),\n",
       " (Document(id='0e00be5e-afa3-4920-8293-69e57f95f680', metadata={'source': 'mammal-pet-doc'}, page_content='Cats are independent pets that often enjoy there own space'),\n",
       "  0.9529241323471069),\n",
       " (Document(id='d3745c1c-8a84-4f97-8270-8c8aeb1cd673', metadata={'source': 'mammal-pet-doc'}, page_content='Dogs are great companions,known for there loyalty and freandliness'),\n",
       "  1.5553232431411743),\n",
       " (Document(id='ad229132-6b60-474a-9b14-cae13188f869', metadata={'source': 'mammal-pet-doc'}, page_content='Dogs are great companions,known for there loyalty and freandliness'),\n",
       "  1.5553232431411743)]"
      ]
     },
     "execution_count": 26,
     "metadata": {},
     "output_type": "execute_result"
    }
   ],
   "source": [
    "## With score of maching based\n",
    "\n",
    "vectorestore.similarity_search_with_score(\"cat\")"
   ]
  },
  {
   "cell_type": "markdown",
   "id": "4017cdb1",
   "metadata": {},
   "source": [
    "## Retrivers\n",
    "\n",
    "Langchain Vectorestore object do not subclass Runnable , and so cannot immediately be intigrated into LangChain Expression Language Chain.\n",
    "\n",
    "LangChain Retrivers are Runnables,so they implement a standerd set of methods(e.g. synchronous and asynchronous invoke and batch operations)and are designed to be incorporated in LCEL Chains.\n",
    "\n",
    "We can create a simple version of the ourselves ,without subclassing Retriver.if we choose what method we wish to use to retrive documents,we can create a runnable easily. below we will build one around the similarity_Search Method."
   ]
  },
  {
   "cell_type": "code",
   "execution_count": 27,
   "id": "97dd20a4",
   "metadata": {},
   "outputs": [
    {
     "data": {
      "text/plain": [
       "[[Document(id='f582ba1f-bc87-4a2e-938f-6a3afa6e1718', metadata={'source': 'mammal-pet-doc'}, page_content='Cats are independent pets that often enjoy there own space')],\n",
       " [Document(id='d3745c1c-8a84-4f97-8270-8c8aeb1cd673', metadata={'source': 'mammal-pet-doc'}, page_content='Dogs are great companions,known for there loyalty and freandliness')]]"
      ]
     },
     "execution_count": 27,
     "metadata": {},
     "output_type": "execute_result"
    }
   ],
   "source": [
    "from typing import List\n",
    "from langchain_core.runnables import RunnableLambda\n",
    "\n",
    "retriver=RunnableLambda(vectorestore.similarity_search).bind(k=1)\n",
    "retriver.batch([\"cat\",\"dog\"])"
   ]
  },
  {
   "cell_type": "markdown",
   "id": "13549dc9",
   "metadata": {},
   "source": [
    "Vectorestore Implement an as Retriver method that will genrate a retiver specifically a VectorestoreRetriver These retriver include specific search_type and Search_Kwords attribute that identify what methode of the underlying vectore store to call and how to parameterize them.for instunce we can replicate the above with the following."
   ]
  },
  {
   "cell_type": "code",
   "execution_count": 28,
   "id": "1f8099ba",
   "metadata": {},
   "outputs": [
    {
     "data": {
      "text/plain": [
       "[[Document(id='f582ba1f-bc87-4a2e-938f-6a3afa6e1718', metadata={'source': 'mammal-pet-doc'}, page_content='Cats are independent pets that often enjoy there own space')],\n",
       " [Document(id='d3745c1c-8a84-4f97-8270-8c8aeb1cd673', metadata={'source': 'mammal-pet-doc'}, page_content='Dogs are great companions,known for there loyalty and freandliness')]]"
      ]
     },
     "execution_count": 28,
     "metadata": {},
     "output_type": "execute_result"
    }
   ],
   "source": [
    "retriver=vectorestore.as_retriever(\n",
    "                          search_type=\"similarity\",\n",
    "                          search_kwargs={\"k\":1}\n",
    "                          )\n",
    "retriver.batch([\"cat\",\"dog\"])"
   ]
  },
  {
   "cell_type": "markdown",
   "id": "974a6418",
   "metadata": {},
   "source": [
    "#### Impliment Retriver with chain"
   ]
  },
  {
   "cell_type": "code",
   "execution_count": null,
   "id": "867b809c",
   "metadata": {},
   "outputs": [
    {
     "name": "stdout",
     "output_type": "stream",
     "text": [
      "Dogs are great companions. They are known for their loyalty and friendliness.\n"
     ]
    }
   ],
   "source": [
    "### Retriver Agument and genrator\n",
    "from langchain_core.prompts import ChatPromptTemplate\n",
    "from langchain_core.runnables import RunnableLambda, RunnablePassthrough\n",
    "\n",
    "message=\"\"\" \n",
    "  Answer this question using the Provided context only.\n",
    "  {question}\n",
    "\n",
    "  Context:\n",
    "  {context}\n",
    "\n",
    "\"\"\"\n",
    "prompt=ChatPromptTemplate.from_messages([\n",
    "    (\"human\",message)\n",
    "])\n",
    "rag_chain={\"context\":retriver,\"question\":RunnablePassthrough()}|prompt|llm\n",
    "\n",
    "response=rag_chain.invoke(\"tell me about dog\")\n",
    "print(response.content)"
   ]
  }
 ],
 "metadata": {
  "kernelspec": {
   "display_name": ".venv",
   "language": "python",
   "name": "python3"
  },
  "language_info": {
   "codemirror_mode": {
    "name": "ipython",
    "version": 3
   },
   "file_extension": ".py",
   "mimetype": "text/x-python",
   "name": "python",
   "nbconvert_exporter": "python",
   "pygments_lexer": "ipython3",
   "version": "3.11.4"
  }
 },
 "nbformat": 4,
 "nbformat_minor": 5
}
